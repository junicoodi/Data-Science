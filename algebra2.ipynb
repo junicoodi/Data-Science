{
 "cells": [
  {
   "cell_type": "code",
   "execution_count": 7,
   "metadata": {},
   "outputs": [],
   "source": [
    "import pandas as pd\n",
    "import numpy as np"
   ]
  },
  {
   "cell_type": "code",
   "execution_count": 8,
   "metadata": {},
   "outputs": [],
   "source": [
    "# DataFrames\n",
    "df = pd.DataFrame({'key': ['K0', 'K1', 'K2', 'K3', 'K4', 'K5'],\n",
    "                   'A': ['A0', 'A1', 'A2', 'A3', 'A4', 'A5']})\n",
    "\n",
    "other = pd.DataFrame({'key': ['K0', 'K1', 'K2'],\n",
    "                      'B': ['B0', 'B1', 'B2']})"
   ]
  },
  {
   "cell_type": "code",
   "execution_count": 9,
   "metadata": {},
   "outputs": [
    {
     "data": {
      "text/html": [
       "<div>\n",
       "<style scoped>\n",
       "    .dataframe tbody tr th:only-of-type {\n",
       "        vertical-align: middle;\n",
       "    }\n",
       "\n",
       "    .dataframe tbody tr th {\n",
       "        vertical-align: top;\n",
       "    }\n",
       "\n",
       "    .dataframe thead th {\n",
       "        text-align: right;\n",
       "    }\n",
       "</style>\n",
       "<table border=\"1\" class=\"dataframe\">\n",
       "  <thead>\n",
       "    <tr style=\"text-align: right;\">\n",
       "      <th></th>\n",
       "      <th>key</th>\n",
       "      <th>A</th>\n",
       "    </tr>\n",
       "  </thead>\n",
       "  <tbody>\n",
       "    <tr>\n",
       "      <th>0</th>\n",
       "      <td>K0</td>\n",
       "      <td>A0</td>\n",
       "    </tr>\n",
       "    <tr>\n",
       "      <th>1</th>\n",
       "      <td>K1</td>\n",
       "      <td>A1</td>\n",
       "    </tr>\n",
       "    <tr>\n",
       "      <th>2</th>\n",
       "      <td>K2</td>\n",
       "      <td>A2</td>\n",
       "    </tr>\n",
       "    <tr>\n",
       "      <th>3</th>\n",
       "      <td>K3</td>\n",
       "      <td>A3</td>\n",
       "    </tr>\n",
       "    <tr>\n",
       "      <th>4</th>\n",
       "      <td>K4</td>\n",
       "      <td>A4</td>\n",
       "    </tr>\n",
       "    <tr>\n",
       "      <th>5</th>\n",
       "      <td>K5</td>\n",
       "      <td>A5</td>\n",
       "    </tr>\n",
       "  </tbody>\n",
       "</table>\n",
       "</div>"
      ],
      "text/plain": [
       "  key   A\n",
       "0  K0  A0\n",
       "1  K1  A1\n",
       "2  K2  A2\n",
       "3  K3  A3\n",
       "4  K4  A4\n",
       "5  K5  A5"
      ]
     },
     "execution_count": 9,
     "metadata": {},
     "output_type": "execute_result"
    }
   ],
   "source": [
    "df"
   ]
  },
  {
   "cell_type": "code",
   "execution_count": 10,
   "metadata": {},
   "outputs": [
    {
     "data": {
      "text/html": [
       "<div>\n",
       "<style scoped>\n",
       "    .dataframe tbody tr th:only-of-type {\n",
       "        vertical-align: middle;\n",
       "    }\n",
       "\n",
       "    .dataframe tbody tr th {\n",
       "        vertical-align: top;\n",
       "    }\n",
       "\n",
       "    .dataframe thead th {\n",
       "        text-align: right;\n",
       "    }\n",
       "</style>\n",
       "<table border=\"1\" class=\"dataframe\">\n",
       "  <thead>\n",
       "    <tr style=\"text-align: right;\">\n",
       "      <th></th>\n",
       "      <th>key</th>\n",
       "      <th>B</th>\n",
       "    </tr>\n",
       "  </thead>\n",
       "  <tbody>\n",
       "    <tr>\n",
       "      <th>0</th>\n",
       "      <td>K0</td>\n",
       "      <td>B0</td>\n",
       "    </tr>\n",
       "    <tr>\n",
       "      <th>1</th>\n",
       "      <td>K1</td>\n",
       "      <td>B1</td>\n",
       "    </tr>\n",
       "    <tr>\n",
       "      <th>2</th>\n",
       "      <td>K2</td>\n",
       "      <td>B2</td>\n",
       "    </tr>\n",
       "  </tbody>\n",
       "</table>\n",
       "</div>"
      ],
      "text/plain": [
       "  key   B\n",
       "0  K0  B0\n",
       "1  K1  B1\n",
       "2  K2  B2"
      ]
     },
     "execution_count": 10,
     "metadata": {},
     "output_type": "execute_result"
    }
   ],
   "source": [
    "other"
   ]
  },
  {
   "cell_type": "code",
   "execution_count": 11,
   "metadata": {},
   "outputs": [
    {
     "name": "stdout",
     "output_type": "stream",
     "text": [
      "(6, 2)\n",
      "(3, 2)\n"
     ]
    }
   ],
   "source": [
    "print(df.shape)\n",
    "print(other.shape)"
   ]
  },
  {
   "cell_type": "code",
   "execution_count": 12,
   "metadata": {},
   "outputs": [
    {
     "name": "stdout",
     "output_type": "stream",
     "text": [
      "  key   A    B\n",
      "0  K0  A0   B0\n",
      "1  K1  A1   B1\n",
      "2  K2  A2   B2\n",
      "3  K3  A3  NaN\n",
      "4  K4  A4  NaN\n",
      "5  K5  A5  NaN\n"
     ]
    }
   ],
   "source": [
    "import pandas as pd  \n",
    "import numpy as np \n",
    "\n",
    "\n",
    "def combine_dataframes(df, other):\n",
    "    # Menghitung jumlah baris dan kolom dari masing-masing DataFrame\n",
    "    rows_df, cols_df = df.shape \n",
    "    rows_other, cols_other = other.shape  \n",
    "\n",
    "    # Inisialisasi array hasil dengan ukuran sesuai dan tipe data object\n",
    "    result = np.full((rows_df, cols_df + (cols_other - 1)), np.nan, dtype=object)\n",
    "\n",
    "    # Menyalin data dari df ke array hasil\n",
    "    result[:, 0] = df.iloc[:, 0].values \n",
    "    result[:, 1] = df.iloc[:, 1].values  \n",
    "\n",
    "    # Menyalin data dari other jika ada kecocokan pada kolom 'key'\n",
    "    for i in range(rows_df):  \n",
    "        for j in range(rows_other):  \n",
    "            if df.iloc[i, 0] == other.iloc[j, 0]: \n",
    "                result[i, 2] = other.iloc[j, 1]  \n",
    "\n",
    "    # Mengembalikan DataFrame baru yang telah digabungkan\n",
    "    return pd.DataFrame(result, columns=['key', 'A', 'B'])\n",
    "\n",
    "\n",
    "# Combine DataFrames\n",
    "result = combine_dataframes(df, other)\n",
    "print(result)"
   ]
  },
  {
   "cell_type": "code",
   "execution_count": 18,
   "metadata": {},
   "outputs": [
    {
     "name": "stdout",
     "output_type": "stream",
     "text": [
      "  key   A\n",
      "0  K0  A0\n",
      "1  K1  A1\n",
      "2  K1  A2\n",
      "3  K3  A3\n",
      "4  K0  A4\n",
      "5  K1  A5\n",
      "\n",
      "  key   A    B\n",
      "0  K0  A0   B0\n",
      "1  K1  A1   B1\n",
      "2  K1  A2   B1\n",
      "3  K3  A3  NaN\n",
      "4  K0  A4   B0\n",
      "5  K1  A5   B1\n"
     ]
    }
   ],
   "source": [
    "# DataFrames\n",
    "df1 = pd.DataFrame({'key': ['K0', 'K1', 'K1', 'K3', 'K0', 'K1'],\n",
    "                   'A': ['A0', 'A1', 'A2', 'A3', 'A4', 'A5']})\n",
    "\n",
    "\n",
    "def combine_dataframes(df1, other):\n",
    "    # Menghitung jumlah baris dan kolom dari masing-masing DataFrame\n",
    "    rows_df1, cols_df1 = df1.shape \n",
    "    rows_other, cols_other = other.shape  \n",
    "\n",
    "    # Inisialisasi array hasil dengan ukuran sesuai dan tipe data object\n",
    "    result = np.full((rows_df1, cols_df1 + (cols_other - 1)), np.nan, dtype=object)\n",
    "\n",
    "    # Menyalin data dari df1 ke array hasil\n",
    "    result[:, 0] = df1.iloc[:, 0].values \n",
    "    result[:, 1] = df1.iloc[:, 1].values  \n",
    "\n",
    "    # Menyalin data dari other jika ada kecocokan pada kolom 'key'\n",
    "    for i in range(rows_df1):  \n",
    "        for j in range(rows_other):  \n",
    "            if df1.iloc[i, 0] == other.iloc[j, 0]: \n",
    "                result[i, 2] = other.iloc[j, 1]  \n",
    "\n",
    "    # Mengembalikan DataFrame baru yang telah digabungkan\n",
    "    return pd.DataFrame(result, columns=['key', 'A', 'B'])\n",
    "\n",
    "\n",
    "# Combine DataFrames\n",
    "result = combine_dataframes(df1, other)\n",
    "print(df1)\n",
    "print()\n",
    "print(result)"
   ]
  }
 ],
 "metadata": {
  "kernelspec": {
   "display_name": ".venv",
   "language": "python",
   "name": "python3"
  },
  "language_info": {
   "codemirror_mode": {
    "name": "ipython",
    "version": 3
   },
   "file_extension": ".py",
   "mimetype": "text/x-python",
   "name": "python",
   "nbconvert_exporter": "python",
   "pygments_lexer": "ipython3",
   "version": "3.12.10"
  }
 },
 "nbformat": 4,
 "nbformat_minor": 2
}
